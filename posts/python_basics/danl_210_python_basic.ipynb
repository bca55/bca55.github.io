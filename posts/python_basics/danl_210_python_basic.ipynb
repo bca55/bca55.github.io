{
  "cells": [
    {
      "cell_type": "markdown",
      "source": [
        "---\n",
        "title: Python Basics\n",
        "author: Bryan Armpriest\n",
        "date: 2025-02-14\n",
        "categories: [python, coding, introduction]\n",
        "image: \"pypic.png\"\n",
        "toc: true\n",
        "---\n",
        "\n"
      ],
      "metadata": {
        "id": "p0ZZoTPEB_2D"
      },
      "id": "p0ZZoTPEB_2D"
    },
    {
      "cell_type": "markdown",
      "id": "d888a05d",
      "metadata": {
        "id": "d888a05d"
      },
      "source": [
        "# A Brief Introduction to Python: a Summary of Week 2 and 3\n"
      ]
    },
    {
      "cell_type": "markdown",
      "source": [
        "First, we took time to learn about variables, operators, and converting from one kind of variable to another. In the example below, I converted x that contained an integer into one that contained a float."
      ],
      "metadata": {
        "id": "mVIvXmYiDLod"
      },
      "id": "mVIvXmYiDLod"
    },
    {
      "cell_type": "code",
      "source": [
        "#You can assign a variable like this:\n",
        "x = 10"
      ],
      "metadata": {
        "id": "iVRaxaLTDUSL"
      },
      "id": "iVRaxaLTDUSL",
      "execution_count": 1,
      "outputs": []
    },
    {
      "cell_type": "code",
      "source": [
        "#You can interact with variables, call them back, and use them in different ways!\n",
        "x*4\n",
        "x/2.25\n",
        "\n",
        "#\n",
        "type(x)\n",
        "float(x)"
      ],
      "metadata": {
        "colab": {
          "base_uri": "https://localhost:8080/"
        },
        "id": "pWq6OKIIDYlw",
        "outputId": "d0287417-ed48-491c-f17c-a35f53e9d323"
      },
      "id": "pWq6OKIIDYlw",
      "execution_count": 6,
      "outputs": [
        {
          "output_type": "execute_result",
          "data": {
            "text/plain": [
              "10.0"
            ]
          },
          "metadata": {},
          "execution_count": 6
        }
      ]
    },
    {
      "cell_type": "markdown",
      "source": [
        "Another major topic that we covered were while and for loops."
      ],
      "metadata": {
        "id": "kHygRMbxB_NR"
      },
      "id": "kHygRMbxB_NR"
    },
    {
      "cell_type": "code",
      "source": [
        "#while loops can be used to take a monotonous task and automate it\n",
        "\n",
        "count = 1\n",
        "while count <= 5:\n",
        "    print(count)\n",
        "    count += 1\n",
        "\n",
        "#for loops can also be very useful! However, it can be tricky as well when thinking about what to iterate\n",
        "for i in \"count\":\n",
        "  print(i)"
      ],
      "metadata": {
        "colab": {
          "base_uri": "https://localhost:8080/"
        },
        "id": "Ec8uVOxcD8hq",
        "outputId": "def2a830-9002-4e2b-a1b9-bd479e944d93"
      },
      "id": "Ec8uVOxcD8hq",
      "execution_count": 15,
      "outputs": [
        {
          "output_type": "stream",
          "name": "stdout",
          "text": [
            "1\n",
            "2\n",
            "3\n",
            "4\n",
            "5\n",
            "c\n",
            "o\n",
            "u\n",
            "n\n",
            "t\n"
          ]
        }
      ]
    },
    {
      "cell_type": "markdown",
      "source": [
        "We also learned about many other functions that are important through Python that would simply take too much time to list every single one. The main ones that come to mind are dictionaries, lists, dataframes, functions, break/continue in the for/while loops, and so many more!\n",
        "\n",
        "### Thank you for reading!"
      ],
      "metadata": {
        "id": "4iIygti0FVhU"
      },
      "id": "4iIygti0FVhU"
    }
  ],
  "metadata": {
    "colab": {
      "provenance": []
    },
    "kernelspec": {
      "display_name": "Python 3",
      "name": "python3"
    },
    "language_info": {
      "name": "python"
    }
  },
  "nbformat": 4,
  "nbformat_minor": 5
}