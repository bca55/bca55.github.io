{
  "nbformat": 4,
  "nbformat_minor": 0,
  "metadata": {
    "colab": {
      "provenance": []
    },
    "kernelspec": {
      "name": "python3",
      "display_name": "Python 3"
    },
    "language_info": {
      "name": "python"
    }
  },
  "cells": [
    {
      "cell_type": "code",
      "execution_count": null,
      "metadata": {
        "id": "90AgRARhVb-g"
      },
      "outputs": [],
      "source": [
        "---\n",
        "title: DANL 210 Python Update\n",
        "author: Bryan Armpriest\n",
        "date: 2025-02-7\n",
        "categories: [python, code, beginner] # tags for a blog post (e.g., python)\n",
        "image: pypic.png\n",
        "\n",
        "toc: true\n",
        "---\n",
        "\n",
        "#In the past week or so, we have been discussing the basics of Python.\n"
      ]
    }
  ]
}